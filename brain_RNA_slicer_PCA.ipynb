{
 "cells": [
  {
   "cell_type": "code",
   "execution_count": 5,
   "metadata": {},
   "outputs": [],
   "source": [
    "import pandas as pd\n",
    "import numpy as np\n",
    "from sklearn.decomposition import PCA\n",
    "from sklearn import preprocessing  # gives functions for scaling data\n",
    "import matplotlib.pyplot as plt"
   ]
  },
  {
   "cell_type": "code",
   "execution_count": 6,
   "metadata": {},
   "outputs": [
    {
     "data": {
      "text/html": [
       "<div>\n",
       "<style scoped>\n",
       "    .dataframe tbody tr th:only-of-type {\n",
       "        vertical-align: middle;\n",
       "    }\n",
       "\n",
       "    .dataframe tbody tr th {\n",
       "        vertical-align: top;\n",
       "    }\n",
       "\n",
       "    .dataframe thead th {\n",
       "        text-align: right;\n",
       "    }\n",
       "</style>\n",
       "<table border=\"1\" class=\"dataframe\">\n",
       "  <thead>\n",
       "    <tr style=\"text-align: right;\">\n",
       "      <th></th>\n",
       "      <th>Gene</th>\n",
       "      <th>Source</th>\n",
       "      <th>Chr</th>\n",
       "      <th>Start</th>\n",
       "      <th>End</th>\n",
       "      <th>baseMean</th>\n",
       "      <th>log2FoldChange</th>\n",
       "      <th>log2FoldChangeUncorrected</th>\n",
       "      <th>lfcSE</th>\n",
       "      <th>stat</th>\n",
       "      <th>...</th>\n",
       "      <th>Control.Normal.B12_10</th>\n",
       "      <th>Control.Normal.B12_15</th>\n",
       "      <th>KO.B12_Deficient.B12_03</th>\n",
       "      <th>KO.B12_Deficient.B12_04</th>\n",
       "      <th>KO.B12_Deficient.B12_06</th>\n",
       "      <th>KO.B12_Deficient.B12_07</th>\n",
       "      <th>KO.Normal.B12_01</th>\n",
       "      <th>KO.Normal.B12_08</th>\n",
       "      <th>KO.Normal.B12_11</th>\n",
       "      <th>KO.Normal.B12_12</th>\n",
       "    </tr>\n",
       "  </thead>\n",
       "  <tbody>\n",
       "    <tr>\n",
       "      <th>0</th>\n",
       "      <td>Tmem181a</td>\n",
       "      <td>HAVANA</td>\n",
       "      <td>chr17</td>\n",
       "      <td>6270470</td>\n",
       "      <td>6308314</td>\n",
       "      <td>14902.552866</td>\n",
       "      <td>-0.686035</td>\n",
       "      <td>-0.712041</td>\n",
       "      <td>0.017077</td>\n",
       "      <td>-40.172218</td>\n",
       "      <td>...</td>\n",
       "      <td>18346.249782</td>\n",
       "      <td>18475.883409</td>\n",
       "      <td>11224.547655</td>\n",
       "      <td>11321.244681</td>\n",
       "      <td>11175.307230</td>\n",
       "      <td>11333.126407</td>\n",
       "      <td>11434.949103</td>\n",
       "      <td>11357.689735</td>\n",
       "      <td>11390.642607</td>\n",
       "      <td>11424.623768</td>\n",
       "    </tr>\n",
       "    <tr>\n",
       "      <th>1</th>\n",
       "      <td>Cd320</td>\n",
       "      <td>HAVANA</td>\n",
       "      <td>chr17</td>\n",
       "      <td>33843091</td>\n",
       "      <td>33849774</td>\n",
       "      <td>176.246376</td>\n",
       "      <td>-1.195882</td>\n",
       "      <td>-6.074842</td>\n",
       "      <td>0.043120</td>\n",
       "      <td>-27.733483</td>\n",
       "      <td>...</td>\n",
       "      <td>300.828145</td>\n",
       "      <td>367.548311</td>\n",
       "      <td>1.964394</td>\n",
       "      <td>9.866868</td>\n",
       "      <td>2.164499</td>\n",
       "      <td>6.732741</td>\n",
       "      <td>4.370490</td>\n",
       "      <td>4.140986</td>\n",
       "      <td>7.076582</td>\n",
       "      <td>2.035386</td>\n",
       "    </tr>\n",
       "    <tr>\n",
       "      <th>2</th>\n",
       "      <td>Gm16867</td>\n",
       "      <td>HAVANA</td>\n",
       "      <td>chr14</td>\n",
       "      <td>69363504</td>\n",
       "      <td>69503362</td>\n",
       "      <td>1749.882377</td>\n",
       "      <td>-0.696872</td>\n",
       "      <td>-0.870387</td>\n",
       "      <td>0.036290</td>\n",
       "      <td>-19.202594</td>\n",
       "      <td>...</td>\n",
       "      <td>2202.872764</td>\n",
       "      <td>2258.910973</td>\n",
       "      <td>1294.535685</td>\n",
       "      <td>1178.104074</td>\n",
       "      <td>1206.708073</td>\n",
       "      <td>1251.327969</td>\n",
       "      <td>1364.466867</td>\n",
       "      <td>1271.282745</td>\n",
       "      <td>1241.055493</td>\n",
       "      <td>1282.293421</td>\n",
       "    </tr>\n",
       "    <tr>\n",
       "      <th>3</th>\n",
       "      <td>Entpd4</td>\n",
       "      <td>HAVANA</td>\n",
       "      <td>chr14</td>\n",
       "      <td>69337174</td>\n",
       "      <td>69367270</td>\n",
       "      <td>5582.269809</td>\n",
       "      <td>-0.492651</td>\n",
       "      <td>-0.551765</td>\n",
       "      <td>0.028132</td>\n",
       "      <td>-17.512058</td>\n",
       "      <td>...</td>\n",
       "      <td>6801.703024</td>\n",
       "      <td>6552.499203</td>\n",
       "      <td>4684.097634</td>\n",
       "      <td>4298.007829</td>\n",
       "      <td>4510.815469</td>\n",
       "      <td>4420.525245</td>\n",
       "      <td>4662.438352</td>\n",
       "      <td>4484.687990</td>\n",
       "      <td>4729.810206</td>\n",
       "      <td>4548.070873</td>\n",
       "    </tr>\n",
       "    <tr>\n",
       "      <th>4</th>\n",
       "      <td>Pyroxd2</td>\n",
       "      <td>ENSEMBL</td>\n",
       "      <td>chr19</td>\n",
       "      <td>42725858</td>\n",
       "      <td>42752775</td>\n",
       "      <td>210.092764</td>\n",
       "      <td>0.622038</td>\n",
       "      <td>1.512406</td>\n",
       "      <td>0.045080</td>\n",
       "      <td>13.798491</td>\n",
       "      <td>...</td>\n",
       "      <td>97.075749</td>\n",
       "      <td>102.367567</td>\n",
       "      <td>296.623503</td>\n",
       "      <td>301.926170</td>\n",
       "      <td>314.934573</td>\n",
       "      <td>304.896976</td>\n",
       "      <td>334.779507</td>\n",
       "      <td>303.327235</td>\n",
       "      <td>353.829078</td>\n",
       "      <td>309.378730</td>\n",
       "    </tr>\n",
       "  </tbody>\n",
       "</table>\n",
       "<p>5 rows × 29 columns</p>\n",
       "</div>"
      ],
      "text/plain": [
       "       Gene   Source    Chr     Start       End      baseMean  log2FoldChange  \\\n",
       "0  Tmem181a   HAVANA  chr17   6270470   6308314  14902.552866       -0.686035   \n",
       "1     Cd320   HAVANA  chr17  33843091  33849774    176.246376       -1.195882   \n",
       "2   Gm16867   HAVANA  chr14  69363504  69503362   1749.882377       -0.696872   \n",
       "3    Entpd4   HAVANA  chr14  69337174  69367270   5582.269809       -0.492651   \n",
       "4   Pyroxd2  ENSEMBL  chr19  42725858  42752775    210.092764        0.622038   \n",
       "\n",
       "   log2FoldChangeUncorrected     lfcSE       stat        ...         \\\n",
       "0                  -0.712041  0.017077 -40.172218        ...          \n",
       "1                  -6.074842  0.043120 -27.733483        ...          \n",
       "2                  -0.870387  0.036290 -19.202594        ...          \n",
       "3                  -0.551765  0.028132 -17.512058        ...          \n",
       "4                   1.512406  0.045080  13.798491        ...          \n",
       "\n",
       "   Control.Normal.B12_10  Control.Normal.B12_15  KO.B12_Deficient.B12_03  \\\n",
       "0           18346.249782           18475.883409             11224.547655   \n",
       "1             300.828145             367.548311                 1.964394   \n",
       "2            2202.872764            2258.910973              1294.535685   \n",
       "3            6801.703024            6552.499203              4684.097634   \n",
       "4              97.075749             102.367567               296.623503   \n",
       "\n",
       "   KO.B12_Deficient.B12_04  KO.B12_Deficient.B12_06  KO.B12_Deficient.B12_07  \\\n",
       "0             11321.244681             11175.307230             11333.126407   \n",
       "1                 9.866868                 2.164499                 6.732741   \n",
       "2              1178.104074              1206.708073              1251.327969   \n",
       "3              4298.007829              4510.815469              4420.525245   \n",
       "4               301.926170               314.934573               304.896976   \n",
       "\n",
       "   KO.Normal.B12_01  KO.Normal.B12_08  KO.Normal.B12_11  KO.Normal.B12_12  \n",
       "0      11434.949103      11357.689735      11390.642607      11424.623768  \n",
       "1          4.370490          4.140986          7.076582          2.035386  \n",
       "2       1364.466867       1271.282745       1241.055493       1282.293421  \n",
       "3       4662.438352       4484.687990       4729.810206       4548.070873  \n",
       "4        334.779507        303.327235        353.829078        309.378730  \n",
       "\n",
       "[5 rows x 29 columns]"
      ]
     },
     "execution_count": 6,
     "metadata": {},
     "output_type": "execute_result"
    }
   ],
   "source": [
    "# open up my dataset from RNAseq experiment\n",
    "df = pd.read_csv(\"original_cd320.koB12neg_vs_ctrlB12neg_copy.csv\")\n",
    "df.head()"
   ]
  },
  {
   "cell_type": "code",
   "execution_count": 7,
   "metadata": {},
   "outputs": [
    {
     "name": "stdout",
     "output_type": "stream",
     "text": [
      "<class 'pandas.core.frame.DataFrame'>\n",
      "RangeIndex: 19992 entries, 0 to 19991\n",
      "Data columns (total 29 columns):\n",
      "Gene                            19992 non-null object\n",
      "Source                          19992 non-null object\n",
      "Chr                             19992 non-null object\n",
      "Start                           19992 non-null int64\n",
      "End                             19992 non-null int64\n",
      "baseMean                        19992 non-null float64\n",
      "log2FoldChange                  19992 non-null float64\n",
      "log2FoldChangeUncorrected       19992 non-null float64\n",
      "lfcSE                           19992 non-null float64\n",
      "stat                            19992 non-null float64\n",
      "pvalue                          19992 non-null float64\n",
      "weight                          19992 non-null float64\n",
      "padj                            19992 non-null float64\n",
      "Control.B12_Deficient.B12_09    19992 non-null float64\n",
      "Control.B12_Deficient.B12_13    19992 non-null float64\n",
      "Control.B12_Deficient.B12_14    19992 non-null float64\n",
      "Control.B12_Deficient.B12_16    19992 non-null float64\n",
      "Control.Normal.B12_02           19992 non-null float64\n",
      "Control.Normal.B12_05           19992 non-null float64\n",
      "Control.Normal.B12_10           19992 non-null float64\n",
      "Control.Normal.B12_15           19992 non-null float64\n",
      "KO.B12_Deficient.B12_03         19992 non-null float64\n",
      "KO.B12_Deficient.B12_04         19992 non-null float64\n",
      "KO.B12_Deficient.B12_06         19992 non-null float64\n",
      "KO.B12_Deficient.B12_07         19992 non-null float64\n",
      "KO.Normal.B12_01                19992 non-null float64\n",
      "KO.Normal.B12_08                19992 non-null float64\n",
      "KO.Normal.B12_11                19992 non-null float64\n",
      "KO.Normal.B12_12                19992 non-null float64\n",
      "dtypes: float64(24), int64(2), object(3)\n",
      "memory usage: 4.4+ MB\n"
     ]
    }
   ],
   "source": [
    "df.info()"
   ]
  },
  {
   "cell_type": "code",
   "execution_count": 8,
   "metadata": {},
   "outputs": [
    {
     "data": {
      "text/plain": [
       "Index(['Gene', 'Source', 'Chr', 'Start', 'End', 'baseMean', 'log2FoldChange',\n",
       "       'log2FoldChangeUncorrected', 'lfcSE', 'stat', 'pvalue', 'weight',\n",
       "       'padj', 'Control.B12_Deficient.B12_09', 'Control.B12_Deficient.B12_13',\n",
       "       'Control.B12_Deficient.B12_14', 'Control.B12_Deficient.B12_16',\n",
       "       'Control.Normal.B12_02', 'Control.Normal.B12_05',\n",
       "       'Control.Normal.B12_10', 'Control.Normal.B12_15',\n",
       "       'KO.B12_Deficient.B12_03', 'KO.B12_Deficient.B12_04',\n",
       "       'KO.B12_Deficient.B12_06', 'KO.B12_Deficient.B12_07',\n",
       "       'KO.Normal.B12_01', 'KO.Normal.B12_08', 'KO.Normal.B12_11',\n",
       "       'KO.Normal.B12_12'],\n",
       "      dtype='object')"
      ]
     },
     "execution_count": 8,
     "metadata": {},
     "output_type": "execute_result"
    }
   ],
   "source": [
    "# I'm having trouble with KeyError messages as if the column names aren't in the df\n",
    "#call the columns attribute on df to get the column names\n",
    "df.columns"
   ]
  },
  {
   "cell_type": "markdown",
   "metadata": {},
   "source": [
    "### I still don't understand why the frames below won't work.  They work on some columns but not others??!!  Go figure. Oh, thank goodness, I finally figured out the syntax to get the multiple columns to drop!!!\n",
    "\n",
    "columns_to_keep = (\"Gene\" , \"Control.B12_Deficient.B12_13\", \"Control.B12_Deficient.B12_09\", \"Control.B12_Deficient.B12_14\")\n",
    "#\"Control.B12_Deficient.B12_16\", \"Control.Normal.B12_02\",\"Control.Normal.B12_05\",\"Control.Normal.B12_10\",\n",
    "#\"Control.Normal.B12_15\",\"KO.B12_Deficient.B12_03\",\"KO.B12_Deficient.B12_04\",\"KO.B12_Deficient.B12_06\",\n",
    "#\"KO.B12_Deficient.B12_07\",\"KO.Normal.B12_01\",\"KO.Normal.B12_08\",\"KO.Normal.B12_11\",\"KO.Normal.B12_12\")\n",
    "\n",
    "PCA_df= []\n",
    "for i in columns_to_keep:\n",
    "        PCA_df = PCA_df.append(df[i])\n",
    "\n",
    "\n",
    "           #\"Chr\", \"Start\", \"End\", \"baseMean\", inplace=True)\n",
    "#newdf.drop('-log10padj', axis=1, inplace=True)\n"
   ]
  },
  {
   "cell_type": "code",
   "execution_count": 9,
   "metadata": {},
   "outputs": [],
   "source": [
    "df.drop(['Source','Chr','Start','End', 'baseMean', 'log2FoldChange', 'log2FoldChangeUncorrected', 'lfcSE', 'stat', 'pvalue', 'weight', 'padj'], axis=1, inplace=True)"
   ]
  },
  {
   "cell_type": "code",
   "execution_count": 10,
   "metadata": {},
   "outputs": [
    {
     "data": {
      "text/html": [
       "<div>\n",
       "<style scoped>\n",
       "    .dataframe tbody tr th:only-of-type {\n",
       "        vertical-align: middle;\n",
       "    }\n",
       "\n",
       "    .dataframe tbody tr th {\n",
       "        vertical-align: top;\n",
       "    }\n",
       "\n",
       "    .dataframe thead th {\n",
       "        text-align: right;\n",
       "    }\n",
       "</style>\n",
       "<table border=\"1\" class=\"dataframe\">\n",
       "  <thead>\n",
       "    <tr style=\"text-align: right;\">\n",
       "      <th></th>\n",
       "      <th>Gene</th>\n",
       "      <th>Control.B12_Deficient.B12_09</th>\n",
       "      <th>Control.B12_Deficient.B12_13</th>\n",
       "      <th>Control.B12_Deficient.B12_14</th>\n",
       "      <th>Control.B12_Deficient.B12_16</th>\n",
       "      <th>Control.Normal.B12_02</th>\n",
       "      <th>Control.Normal.B12_05</th>\n",
       "      <th>Control.Normal.B12_10</th>\n",
       "      <th>Control.Normal.B12_15</th>\n",
       "      <th>KO.B12_Deficient.B12_03</th>\n",
       "      <th>KO.B12_Deficient.B12_04</th>\n",
       "      <th>KO.B12_Deficient.B12_06</th>\n",
       "      <th>KO.B12_Deficient.B12_07</th>\n",
       "      <th>KO.Normal.B12_01</th>\n",
       "      <th>KO.Normal.B12_08</th>\n",
       "      <th>KO.Normal.B12_11</th>\n",
       "      <th>KO.Normal.B12_12</th>\n",
       "    </tr>\n",
       "  </thead>\n",
       "  <tbody>\n",
       "    <tr>\n",
       "      <th>0</th>\n",
       "      <td>Tmem181a</td>\n",
       "      <td>18400.907007</td>\n",
       "      <td>18180.987924</td>\n",
       "      <td>18529.070543</td>\n",
       "      <td>18697.863582</td>\n",
       "      <td>18209.056703</td>\n",
       "      <td>18938.695721</td>\n",
       "      <td>18346.249782</td>\n",
       "      <td>18475.883409</td>\n",
       "      <td>11224.547655</td>\n",
       "      <td>11321.244681</td>\n",
       "      <td>11175.307230</td>\n",
       "      <td>11333.126407</td>\n",
       "      <td>11434.949103</td>\n",
       "      <td>11357.689735</td>\n",
       "      <td>11390.642607</td>\n",
       "      <td>11424.623768</td>\n",
       "    </tr>\n",
       "    <tr>\n",
       "      <th>1</th>\n",
       "      <td>Cd320</td>\n",
       "      <td>327.211735</td>\n",
       "      <td>346.001288</td>\n",
       "      <td>393.224683</td>\n",
       "      <td>349.951455</td>\n",
       "      <td>344.514290</td>\n",
       "      <td>352.310157</td>\n",
       "      <td>300.828145</td>\n",
       "      <td>367.548311</td>\n",
       "      <td>1.964394</td>\n",
       "      <td>9.866868</td>\n",
       "      <td>2.164499</td>\n",
       "      <td>6.732741</td>\n",
       "      <td>4.370490</td>\n",
       "      <td>4.140986</td>\n",
       "      <td>7.076582</td>\n",
       "      <td>2.035386</td>\n",
       "    </tr>\n",
       "    <tr>\n",
       "      <th>2</th>\n",
       "      <td>Gm16867</td>\n",
       "      <td>2246.453653</td>\n",
       "      <td>2331.793956</td>\n",
       "      <td>2157.176025</td>\n",
       "      <td>2282.152936</td>\n",
       "      <td>2102.521494</td>\n",
       "      <td>2326.461900</td>\n",
       "      <td>2202.872764</td>\n",
       "      <td>2258.910973</td>\n",
       "      <td>1294.535685</td>\n",
       "      <td>1178.104074</td>\n",
       "      <td>1206.708073</td>\n",
       "      <td>1251.327969</td>\n",
       "      <td>1364.466867</td>\n",
       "      <td>1271.282745</td>\n",
       "      <td>1241.055493</td>\n",
       "      <td>1282.293421</td>\n",
       "    </tr>\n",
       "    <tr>\n",
       "      <th>3</th>\n",
       "      <td>Entpd4</td>\n",
       "      <td>6820.413408</td>\n",
       "      <td>6585.699362</td>\n",
       "      <td>6517.016792</td>\n",
       "      <td>6332.200876</td>\n",
       "      <td>6684.561548</td>\n",
       "      <td>6683.769132</td>\n",
       "      <td>6801.703024</td>\n",
       "      <td>6552.499203</td>\n",
       "      <td>4684.097634</td>\n",
       "      <td>4298.007829</td>\n",
       "      <td>4510.815469</td>\n",
       "      <td>4420.525245</td>\n",
       "      <td>4662.438352</td>\n",
       "      <td>4484.687990</td>\n",
       "      <td>4729.810206</td>\n",
       "      <td>4548.070873</td>\n",
       "    </tr>\n",
       "    <tr>\n",
       "      <th>4</th>\n",
       "      <td>Pyroxd2</td>\n",
       "      <td>117.075758</td>\n",
       "      <td>126.301084</td>\n",
       "      <td>100.075176</td>\n",
       "      <td>83.220163</td>\n",
       "      <td>105.322940</td>\n",
       "      <td>110.350021</td>\n",
       "      <td>97.075749</td>\n",
       "      <td>102.367567</td>\n",
       "      <td>296.623503</td>\n",
       "      <td>301.926170</td>\n",
       "      <td>314.934573</td>\n",
       "      <td>304.896976</td>\n",
       "      <td>334.779507</td>\n",
       "      <td>303.327235</td>\n",
       "      <td>353.829078</td>\n",
       "      <td>309.378730</td>\n",
       "    </tr>\n",
       "  </tbody>\n",
       "</table>\n",
       "</div>"
      ],
      "text/plain": [
       "       Gene  Control.B12_Deficient.B12_09  Control.B12_Deficient.B12_13  \\\n",
       "0  Tmem181a                  18400.907007                  18180.987924   \n",
       "1     Cd320                    327.211735                    346.001288   \n",
       "2   Gm16867                   2246.453653                   2331.793956   \n",
       "3    Entpd4                   6820.413408                   6585.699362   \n",
       "4   Pyroxd2                    117.075758                    126.301084   \n",
       "\n",
       "   Control.B12_Deficient.B12_14  Control.B12_Deficient.B12_16  \\\n",
       "0                  18529.070543                  18697.863582   \n",
       "1                    393.224683                    349.951455   \n",
       "2                   2157.176025                   2282.152936   \n",
       "3                   6517.016792                   6332.200876   \n",
       "4                    100.075176                     83.220163   \n",
       "\n",
       "   Control.Normal.B12_02  Control.Normal.B12_05  Control.Normal.B12_10  \\\n",
       "0           18209.056703           18938.695721           18346.249782   \n",
       "1             344.514290             352.310157             300.828145   \n",
       "2            2102.521494            2326.461900            2202.872764   \n",
       "3            6684.561548            6683.769132            6801.703024   \n",
       "4             105.322940             110.350021              97.075749   \n",
       "\n",
       "   Control.Normal.B12_15  KO.B12_Deficient.B12_03  KO.B12_Deficient.B12_04  \\\n",
       "0           18475.883409             11224.547655             11321.244681   \n",
       "1             367.548311                 1.964394                 9.866868   \n",
       "2            2258.910973              1294.535685              1178.104074   \n",
       "3            6552.499203              4684.097634              4298.007829   \n",
       "4             102.367567               296.623503               301.926170   \n",
       "\n",
       "   KO.B12_Deficient.B12_06  KO.B12_Deficient.B12_07  KO.Normal.B12_01  \\\n",
       "0             11175.307230             11333.126407      11434.949103   \n",
       "1                 2.164499                 6.732741          4.370490   \n",
       "2              1206.708073              1251.327969       1364.466867   \n",
       "3              4510.815469              4420.525245       4662.438352   \n",
       "4               314.934573               304.896976        334.779507   \n",
       "\n",
       "   KO.Normal.B12_08  KO.Normal.B12_11  KO.Normal.B12_12  \n",
       "0      11357.689735      11390.642607      11424.623768  \n",
       "1          4.140986          7.076582          2.035386  \n",
       "2       1271.282745       1241.055493       1282.293421  \n",
       "3       4484.687990       4729.810206       4548.070873  \n",
       "4        303.327235        353.829078        309.378730  "
      ]
     },
     "execution_count": 10,
     "metadata": {},
     "output_type": "execute_result"
    }
   ],
   "source": [
    "df.head()"
   ]
  },
  {
   "cell_type": "code",
   "execution_count": 11,
   "metadata": {},
   "outputs": [
    {
     "name": "stdout",
     "output_type": "stream",
     "text": [
      "(19992, 17)\n"
     ]
    }
   ],
   "source": [
    "print(df.shape)"
   ]
  },
  {
   "cell_type": "code",
   "execution_count": 12,
   "metadata": {},
   "outputs": [
    {
     "name": "stdout",
     "output_type": "stream",
     "text": [
      "0        Tmem181a\n",
      "1           Cd320\n",
      "2         Gm16867\n",
      "3          Entpd4\n",
      "4         Pyroxd2\n",
      "5         Golga7b\n",
      "6            Efhb\n",
      "7            Pisd\n",
      "8           Pdzd7\n",
      "9          Gm6882\n",
      "10        Gm21685\n",
      "11           Sfr1\n",
      "12        Dynlt1b\n",
      "13         Cxcl15\n",
      "14           Arl3\n",
      "15            Ide\n",
      "16          As3mt\n",
      "17          Unc5b\n",
      "18           Btrc\n",
      "19       Ifit1bl2\n",
      "20           E2f7\n",
      "21         Ccdc73\n",
      "22           Mid1\n",
      "23            Kdr\n",
      "24          Nolc1\n",
      "25           Vil1\n",
      "26         Sorbs1\n",
      "27         Fgfbp3\n",
      "28          Sfxn3\n",
      "29         Cfap61\n",
      "           ...   \n",
      "19962       Trgj1\n",
      "19963      Trim52\n",
      "19964      Ugt2a1\n",
      "19965        Umod\n",
      "19966    Vma21-ps\n",
      "19967      Vmn1r1\n",
      "19968     Vmn1r10\n",
      "19969     Vmn1r12\n",
      "19970     Vmn1r15\n",
      "19971     Vmn1r16\n",
      "19972    Vmn1r193\n",
      "19973    Vmn1r196\n",
      "19974    Vmn1r205\n",
      "19975    Vmn1r211\n",
      "19976    Vmn1r222\n",
      "19977    Vmn1r233\n",
      "19978     Vmn1r53\n",
      "19979     Vmn1r56\n",
      "19980     Vmn1r67\n",
      "19981      Vmn1r8\n",
      "19982    Vmn2r111\n",
      "19983     Vmn2r49\n",
      "19984     Vmn2r51\n",
      "19985     Vmn2r53\n",
      "19986     Vmn2r61\n",
      "19987     Vmn2r73\n",
      "19988      Wfdc21\n",
      "19989     Zdhhc25\n",
      "19990      Zfp352\n",
      "19991      Zfp616\n",
      "Name: Gene, Length: 19992, dtype: object\n"
     ]
    }
   ],
   "source": [
    "genes= df[\"Gene\"]\n",
    "print(genes)"
   ]
  },
  {
   "cell_type": "code",
   "execution_count": 13,
   "metadata": {},
   "outputs": [
    {
     "name": "stdout",
     "output_type": "stream",
     "text": [
      "Index(['CR9', 'CR13', 'CR14', 'CR16', 'CY2', 'CY5', 'CY10', 'CY15', 'KR3',\n",
      "       'KR4', 'KR6', 'KR7', 'KY1', 'KY6', 'KY11', 'KY12'],\n",
      "      dtype='object')\n",
      "       Gene           CR9          CR13          CR14          CR16  \\\n",
      "0  Tmem181a  18400.907007  18180.987924  18529.070543  18697.863582   \n",
      "1     Cd320    327.211735    346.001288    393.224683    349.951455   \n",
      "2   Gm16867   2246.453653   2331.793956   2157.176025   2282.152936   \n",
      "3    Entpd4   6820.413408   6585.699362   6517.016792   6332.200876   \n",
      "4   Pyroxd2    117.075758    126.301084    100.075176     83.220163   \n",
      "\n",
      "            CY2           CY5          CY10          CY15           KR3  \\\n",
      "0  18209.056703  18938.695721  18346.249782  18475.883409  11224.547655   \n",
      "1    344.514290    352.310157    300.828145    367.548311      1.964394   \n",
      "2   2102.521494   2326.461900   2202.872764   2258.910973   1294.535685   \n",
      "3   6684.561548   6683.769132   6801.703024   6552.499203   4684.097634   \n",
      "4    105.322940    110.350021     97.075749    102.367567    296.623503   \n",
      "\n",
      "            KR4           KR6           KR7           KY1           KY6  \\\n",
      "0  11321.244681  11175.307230  11333.126407  11434.949103  11357.689735   \n",
      "1      9.866868      2.164499      6.732741      4.370490      4.140986   \n",
      "2   1178.104074   1206.708073   1251.327969   1364.466867   1271.282745   \n",
      "3   4298.007829   4510.815469   4420.525245   4662.438352   4484.687990   \n",
      "4    301.926170    314.934573    304.896976    334.779507    303.327235   \n",
      "\n",
      "           KY11          KY12  \n",
      "0  11390.642607  11424.623768  \n",
      "1      7.076582      2.035386  \n",
      "2   1241.055493   1282.293421  \n",
      "3   4729.810206   4548.070873  \n",
      "4    353.829078    309.378730  \n"
     ]
    }
   ],
   "source": [
    "df.columns = [\"Gene\", \"CR9\", \"CR13\", \"CR14\", \"CR16\", \"CY2\", \"CY5\", \"CY10\", \"CY15\", \"KR3\",\"KR4\", \"KR6\", \"KR7\", \"KY1\", \"KY6\", \"KY11\", \"KY12\"]\n",
    "#df.set_index([\"Gene\"], inplace = True, drop = True) \n",
    "df.head()\n",
    "slice_column = df.columns.delete(0)\n",
    "print(slice_column)\n",
    "print(df.head())"
   ]
  },
  {
   "cell_type": "code",
   "execution_count": 14,
   "metadata": {},
   "outputs": [],
   "source": [
    "ax = df.loc[:,slice_column]\n",
    "genes = df.loc[:,'Gene']\n",
    "#print(genes)\n",
    "#print(ax)"
   ]
  },
  {
   "cell_type": "code",
   "execution_count": 15,
   "metadata": {},
   "outputs": [
    {
     "data": {
      "text/plain": [
       "array([ 0.91724602,  0.98469149,  1.18038723, ..., -0.25819889,\n",
       "       -0.25819889, -0.25819889])"
      ]
     },
     "execution_count": 15,
     "metadata": {},
     "output_type": "execute_result"
    }
   ],
   "source": [
    "# need to scale the data, average value for each gene = 0, after scaling std dev for each gene = 1\n",
    "# transpose the samples into rows and the genes into columns with the \".T\" \n",
    "# Note: I could have called df.transpose() on a separate line\n",
    "# Note: Sklearn calculates variation as (measurement - mean)^2 / the number of measurements\n",
    "# this is different than R scale() or prcomp() which uses (the # measurements -1) as the denominator which results in larger but unbiased estimates of variation\n",
    "# this difference changes the look of the graph but not the PCA analysis\n",
    "\n",
    "scaled_data = preprocessing.scale(ax.T)\n",
    "type(scaled_data)\n",
    "scaled_data[1]\n"
   ]
  },
  {
   "cell_type": "code",
   "execution_count": 16,
   "metadata": {},
   "outputs": [],
   "source": [
    "# set up and empty object called pca (useful for machine learning where datasets are trained and then run on another set)\n",
    "\n",
    "pca=PCA()"
   ]
  },
  {
   "cell_type": "code",
   "execution_count": 17,
   "metadata": {},
   "outputs": [
    {
     "data": {
      "text/plain": [
       "PCA(copy=True, iterated_power='auto', n_components=None, random_state=None,\n",
       "  svd_solver='auto', tol=0.0, whiten=False)"
      ]
     },
     "execution_count": 17,
     "metadata": {},
     "output_type": "execute_result"
    }
   ],
   "source": [
    "# the fit method on the scaled data does the PCA math - variation and loading scores\n",
    "pca.fit(scaled_data)"
   ]
  },
  {
   "cell_type": "code",
   "execution_count": 18,
   "metadata": {},
   "outputs": [
    {
     "name": "stdout",
     "output_type": "stream",
     "text": [
      "[[-2.44357606e+01  4.13469688e+01  8.34615465e+01  4.30407331e+01\n",
      "   3.60656399e+01 -5.13933223e+01 -5.09064821e+01  3.57743300e+01\n",
      "  -3.72511036e+01  1.76595297e+01  2.49764316e+01 -1.01413866e+01\n",
      "   2.58044260e+00 -4.06408901e+00  1.69682306e-01  8.04200456e-14]\n",
      " [-2.96486818e+01 -7.97864582e+01  6.77944070e+01 -2.83232715e+01\n",
      "  -4.26136277e+01  1.90730745e+00 -4.00556483e+01 -1.34790546e+01\n",
      "   2.18585326e+01 -5.28088316e+01 -3.57979230e+01 -2.06697615e+01\n",
      "  -2.51041586e+01  3.05618721e+00  1.23025061e+01  7.35644184e-14]\n",
      " [ 6.84002743e+01  2.22939413e+01 -1.63220942e+01 -7.13314442e+00\n",
      "  -5.27948961e+01  7.13794759e+00 -1.50160925e+01  5.39721870e+01\n",
      "   8.98432508e+00  6.35419124e+01 -5.59067734e+01 -1.52336224e+01\n",
      "  -3.11421371e+00 -1.86464041e+01  1.75908554e+01 -2.46263079e-13]\n",
      " [ 1.23739078e+02  2.25599047e+01 -2.85023842e+01 -4.66049701e+01\n",
      "  -3.01253502e+01 -2.03064482e+01 -2.16901112e+01 -7.63611236e+00\n",
      "  -3.73598049e+01 -4.32179698e+01  4.88902037e+01  5.30679880e-02\n",
      "  -6.76264866e+00 -8.17576306e+00 -1.44737804e+01  3.47898793e-14]\n",
      " [-7.24680980e+01  8.79617118e+01  1.39216527e+01 -1.67645265e+01\n",
      "  -2.86256838e+01  3.84050035e+01  1.70620873e+01 -2.91673563e+01\n",
      "  -3.37474837e+01 -1.34378272e+01 -7.02445896e+00  4.30324458e+01\n",
      "  -1.99466772e+00 -4.42637969e+01  3.40438504e+01  1.36453349e-13]\n",
      " [ 2.39379194e+01  8.49996916e+01 -5.87750121e+00 -2.89629009e+01\n",
      "   8.10227475e+01  2.38052394e+00  1.80157917e-01 -2.01742640e+01\n",
      "   5.07927589e+01 -2.00761375e+01 -3.64034386e+01 -3.06416415e+01\n",
      "  -2.18363089e+01  3.00518985e-02 -1.49310712e+01  2.33918787e-13]\n",
      " [-5.94882237e+01 -4.21376145e+01 -3.25896327e+01 -7.17124653e+01\n",
      "   3.83248645e+01 -9.30212133e+00  7.73923435e+00  7.59723086e+01\n",
      "  -9.01420430e+00 -1.33076814e+01 -6.24937212e+00  4.10002186e+01\n",
      "   1.84604780e+01  3.01261837e+00 -1.64152656e+01  2.78402301e-13]\n",
      " [ 1.63319033e+01 -1.92131649e+01  4.92919681e+01 -2.12541469e+01\n",
      "   1.22815021e+01  9.26198304e+01  1.94630029e+01  1.37121193e+01\n",
      "   1.89774061e+01  3.05307355e+01  6.00539860e+01 -2.10324864e+01\n",
      "   1.14161790e+00  1.54435005e+01  1.84936308e+00 -1.21356918e-14]\n",
      " [-7.11987368e+01  3.38540883e+01 -4.95382700e+01  4.76411850e+01\n",
      "  -4.75675403e+01 -1.48907343e+01  3.62067211e+01  3.97198715e+01\n",
      "   2.34260429e+01 -3.38466005e+01  2.85769013e+01 -5.06970400e+01\n",
      "  -1.31576332e+01  1.04747287e+01 -5.43439318e+00 -8.11174045e-14]\n",
      " [-3.62337463e+00  3.89272339e+01  1.00229984e+01 -2.74794306e+00\n",
      "  -3.60710706e+01 -2.44281848e+01 -6.84236173e+00 -2.68631229e+01\n",
      "   3.64574057e+01  1.89030159e+01  2.19858855e+00  5.20556874e+01\n",
      "   1.85050203e+01  8.33561893e+01 -6.61745120e+00 -2.56617644e-14]\n",
      " [-3.48253681e+00 -3.42944349e+01  3.04206975e+01 -3.24345476e+01\n",
      "  -1.53673184e+00 -5.36383924e+01  8.74388963e+01 -3.84292617e+01\n",
      "  -3.33370911e+01  3.56663182e+01 -9.72327397e+00 -2.67884736e+01\n",
      "  -5.38755669e+00 -2.88198201e+00 -1.35814917e+01 -1.67131933e-13]\n",
      " [ 3.19159435e+01 -4.63766674e+01 -5.82690438e+00  3.23987916e+01\n",
      "   1.61218405e+01 -3.74444146e+01  1.30499470e+01 -9.50745773e+00\n",
      "   7.03773215e+01  3.69825088e+00  3.12681642e+01  3.79217578e+01\n",
      "   6.49658936e+00 -5.33650807e+01  3.56925165e+01  5.68833175e-14]\n",
      " [-1.02224688e+01 -1.46412764e+01 -8.14611881e+00  2.91751663e+01\n",
      "  -1.04357694e+01  2.14386928e+01 -1.97422438e+01 -2.90717135e+01\n",
      "   2.05114521e+00 -2.79403104e+00 -1.58822701e+01 -1.31875528e+01\n",
      "   8.15778246e+01 -2.96718405e+01 -6.14502357e+01 -5.36411193e-14]\n",
      " [ 6.83359121e+01 -2.65868411e+01  8.18797366e+00  8.02771924e+01\n",
      "   2.61490543e+01  3.14727826e+01  4.15373913e+01  1.76408502e+01\n",
      "  -3.62278026e+01 -3.82807145e+01 -3.68633872e+01  2.97637995e+01\n",
      "  -9.42495287e+00  2.48410788e+01  4.05121299e+00  2.22641350e-13]\n",
      " [-1.94266034e+01 -3.17031823e+01 -6.44439830e+01 -1.10724154e+00\n",
      "   3.27566190e+01  1.74499636e+00 -3.07073480e+01 -3.24950015e+01\n",
      "  -3.14611531e+01  9.51627080e+00  2.94013515e-01 -3.53863717e+01\n",
      "   3.04148568e+01  2.82454567e+01  6.88122882e+01 -2.20594376e-13]\n",
      " [-3.86665465e+01 -3.72039006e+01 -5.18543555e+01  2.45120894e+01\n",
      "   7.04840213e+00  1.42965334e+01 -3.77171507e+01 -2.99683222e+01\n",
      "  -1.45262948e+01  3.82537600e+01  7.59260838e+00  1.99513596e+01\n",
      "  -7.23946893e+01 -7.39085535e+00 -4.16085860e+01 -2.96082603e-13]]\n"
     ]
    }
   ],
   "source": [
    "# generate the coordinates for the PCA graph based on the loading scores and scaled data\n",
    "pca_data = pca.transform(scaled_data)\n",
    "print(pca_data)"
   ]
  },
  {
   "cell_type": "code",
   "execution_count": 19,
   "metadata": {},
   "outputs": [
    {
     "name": "stdout",
     "output_type": "stream",
     "text": [
      "[13.7 11.1  8.4  7.5  6.7  6.3  6.   5.8  5.6  5.2  5.   4.9  4.7  4.7\n",
      "  4.4  0. ]\n"
     ]
    }
   ],
   "source": [
    "# Scree plot for number of principal components to put on final plot\n",
    "per_var = np.round(pca.explained_variance_ratio_* 100, decimals=1)\n",
    "print(per_var)"
   ]
  },
  {
   "cell_type": "code",
   "execution_count": 20,
   "metadata": {},
   "outputs": [],
   "source": [
    "# Create labels for the scree plot - one label for each component\n",
    "labels = [\"PC\" + str(x) for x in range(1, len(per_var)+1)]"
   ]
  },
  {
   "cell_type": "code",
   "execution_count": 21,
   "metadata": {},
   "outputs": [
    {
     "data": {
      "image/png": "[encoded data removed]",
      "text/plain": [
       "<Figure size 432x288 with 1 Axes>"
      ]
     },
     "metadata": {
      "needs_background": "light"
     },
     "output_type": "display_data"
    }
   ],
   "source": [
    "# plot the Scree plot with matplotlib\n",
    "plt.bar(x=range(1, len(per_var)+1), height = per_var, tick_label=labels)\n",
    "plt.ylabel('Percentage of Explained Variance')\n",
    "plt.xlabel('Principal Component')\n",
    "plt.title(\"Scree Plot\")\n",
    "plt.show()"
   ]
  },
  {
   "cell_type": "code",
   "execution_count": 22,
   "metadata": {},
   "outputs": [
    {
     "name": "stdout",
     "output_type": "stream",
     "text": [
      "             PC1        PC2        PC3        PC4        PC5        PC6  \\\n",
      "CR9   -24.435761  41.346969  83.461546  43.040733  36.065640 -51.393322   \n",
      "CR13  -29.648682 -79.786458  67.794407 -28.323271 -42.613628   1.907307   \n",
      "CR14   68.400274  22.293941 -16.322094  -7.133144 -52.794896   7.137948   \n",
      "CR16  123.739078  22.559905 -28.502384 -46.604970 -30.125350 -20.306448   \n",
      "CY2   -72.468098  87.961712  13.921653 -16.764526 -28.625684  38.405003   \n",
      "CY5    23.937919  84.999692  -5.877501 -28.962901  81.022747   2.380524   \n",
      "CY10  -59.488224 -42.137614 -32.589633 -71.712465  38.324864  -9.302121   \n",
      "CY15   16.331903 -19.213165  49.291968 -21.254147  12.281502  92.619830   \n",
      "KR3   -71.198737  33.854088 -49.538270  47.641185 -47.567540 -14.890734   \n",
      "KR4    -3.623375  38.927234  10.022998  -2.747943 -36.071071 -24.428185   \n",
      "KR6    -3.482537 -34.294435  30.420698 -32.434548  -1.536732 -53.638392   \n",
      "KR7    31.915944 -46.376667  -5.826904  32.398792  16.121841 -37.444415   \n",
      "KY1   -10.222469 -14.641276  -8.146119  29.175166 -10.435769  21.438693   \n",
      "KY6    68.335912 -26.586841   8.187974  80.277192  26.149054  31.472783   \n",
      "KY11  -19.426603 -31.703182 -64.443983  -1.107242  32.756619   1.744996   \n",
      "KY12  -38.666546 -37.203901 -51.854355  24.512089   7.048402  14.296533   \n",
      "\n",
      "            PC7        PC8        PC9       PC10       PC11       PC12  \\\n",
      "CR9  -50.906482  35.774330 -37.251104  17.659530  24.976432 -10.141387   \n",
      "CR13 -40.055648 -13.479055  21.858533 -52.808832 -35.797923 -20.669761   \n",
      "CR14 -15.016092  53.972187   8.984325  63.541912 -55.906773 -15.233622   \n",
      "CR16 -21.690111  -7.636112 -37.359805 -43.217970  48.890204   0.053068   \n",
      "CY2   17.062087 -29.167356 -33.747484 -13.437827  -7.024459  43.032446   \n",
      "CY5    0.180158 -20.174264  50.792759 -20.076137 -36.403439 -30.641641   \n",
      "CY10   7.739234  75.972309  -9.014204 -13.307681  -6.249372  41.000219   \n",
      "CY15  19.463003  13.712119  18.977406  30.530735  60.053986 -21.032486   \n",
      "KR3   36.206721  39.719871  23.426043 -33.846600  28.576901 -50.697040   \n",
      "KR4   -6.842362 -26.863123  36.457406  18.903016   2.198589  52.055687   \n",
      "KR6   87.438896 -38.429262 -33.337091  35.666318  -9.723274 -26.788474   \n",
      "KR7   13.049947  -9.507458  70.377322   3.698251  31.268164  37.921758   \n",
      "KY1  -19.742244 -29.071713   2.051145  -2.794031 -15.882270 -13.187553   \n",
      "KY6   41.537391  17.640850 -36.227803 -38.280714 -36.863387  29.763799   \n",
      "KY11 -30.707348 -32.495001 -31.461153   9.516271   0.294014 -35.386372   \n",
      "KY12 -37.717151 -29.968322 -14.526295  38.253760   7.592608  19.951360   \n",
      "\n",
      "           PC13       PC14       PC15          PC16  \n",
      "CR9    2.580443  -4.064089   0.169682  8.042005e-14  \n",
      "CR13 -25.104159   3.056187  12.302506  7.356442e-14  \n",
      "CR14  -3.114214 -18.646404  17.590855 -2.462631e-13  \n",
      "CR16  -6.762649  -8.175763 -14.473780  3.478988e-14  \n",
      "CY2   -1.994668 -44.263797  34.043850  1.364533e-13  \n",
      "CY5  -21.836309   0.030052 -14.931071  2.339188e-13  \n",
      "CY10  18.460478   3.012618 -16.415266  2.784023e-13  \n",
      "CY15   1.141618  15.443501   1.849363 -1.213569e-14  \n",
      "KR3  -13.157633  10.474729  -5.434393 -8.111740e-14  \n",
      "KR4   18.505020  83.356189  -6.617451 -2.566176e-14  \n",
      "KR6   -5.387557  -2.881982 -13.581492 -1.671319e-13  \n",
      "KR7    6.496589 -53.365081  35.692517  5.688332e-14  \n",
      "KY1   81.577825 -29.671841 -61.450236 -5.364112e-14  \n",
      "KY6   -9.424953  24.841079   4.051213  2.226413e-13  \n",
      "KY11  30.414857  28.245457  68.812288 -2.205944e-13  \n",
      "KY12 -72.394689  -7.390855 -41.608586 -2.960826e-13  \n"
     ]
    }
   ],
   "source": [
    "#draw PCA plot  \n",
    "\n",
    "pca_df = pd.DataFrame(pca_data, index = slice_column, columns = labels)\n",
    "print(pca_df)\n",
    "\n"
   ]
  },
  {
   "cell_type": "code",
   "execution_count": 23,
   "metadata": {},
   "outputs": [
    {
     "name": "stdout",
     "output_type": "stream",
     "text": [
      "Index(['CR9', 'CR13', 'CR14', 'CR16', 'CY2', 'CY5', 'CY10', 'CY15', 'KR3',\n",
      "       'KR4', 'KR6', 'KR7', 'KY1', 'KY6', 'KY11', 'KY12'],\n",
      "      dtype='object')\n"
     ]
    },
    {
     "data": {
      "image/png": "[encoded data removed]",
      "text/plain": [
       "<Figure size 432x288 with 1 Axes>"
      ]
     },
     "metadata": {
      "needs_background": "light"
     },
     "output_type": "display_data"
    }
   ],
   "source": [
    "#scatter plot for PCA\n",
    "plt.scatter(pca_df.PC1, pca_df.PC2)\n",
    "plt.title(\"My PCA Graph\")\n",
    "plt.xlabel('PC1 - {0}%'.format(per_var[0]))\n",
    "plt.ylabel('PC2 - {0}%'.format(per_var[1]))\n",
    "\n",
    "print(pca_df.index)\n",
    "# loop over annotate to add sample names to the graph \n",
    "for sample in pca_df.index:\n",
    "    plt.annotate(sample, (pca_df.PC1.loc[sample], pca_df.PC2.loc[sample]))\n",
    "\n",
    "plt.show()"
   ]
  },
  {
   "cell_type": "code",
   "execution_count": 24,
   "metadata": {},
   "outputs": [
    {
     "name": "stdout",
     "output_type": "stream",
     "text": [
      "Gene\n",
      "Max         0.018148\n",
      "Ttll7       0.018091\n",
      "Nalcn       0.017936\n",
      "Ddx3x       0.017803\n",
      "Epha5       0.017801\n",
      "Ankrd28     0.017737\n",
      "Rnf10       0.017649\n",
      "Kcnk1       0.017584\n",
      "Ier5        0.017537\n",
      "Serinc2     0.017519\n",
      "Cxcl14      0.017476\n",
      "Tpm4        0.017389\n",
      "Cish        0.017365\n",
      "Rims4       0.017363\n",
      "Camk1g      0.017294\n",
      "Cryab       0.017259\n",
      "Dnajb5      0.017254\n",
      "Cacna2d1    0.017232\n",
      "Tmem245     0.017230\n",
      "Xbp1        0.017221\n",
      "dtype: float64\n"
     ]
    }
   ],
   "source": [
    "# look at loading scores for the x-axis (PC1)\n",
    "loading_scores = pd.Series(pca.components_[0], index = genes)\n",
    "\n",
    "#sort the absolute value of the scores from highest to lowest\n",
    "sorted_loading_scores = loading_scores.abs().sort_values(ascending=False)\n",
    "#print(sorted_loading_scores)\n",
    "#get the names of the top 10 indexes(ie gene names)\n",
    "top_20_genes = sorted_loading_scores.head(20)\n",
    "\n",
    "print(top_20_genes)"
   ]
  },
  {
   "cell_type": "code",
   "execution_count": 120,
   "metadata": {},
   "outputs": [
    {
     "data": {
      "image/png": "[encoded data removed]",
      "text/plain": [
       "<Figure size 360x360 with 1 Axes>"
      ]
     },
     "metadata": {
      "needs_background": "light"
     },
     "output_type": "display_data"
    }
   ],
   "source": [
    "%matplotlib inline\n",
    "import numpy as np\n",
    "import matplotlib.pyplot as plt\n",
    "from mpl_toolkits.mplot3d import Axes3D\n",
    "\n",
    "\n",
    "from sklearn import decomposition\n",
    "\n",
    "fig = plt.figure(1, figsize=(5, 5))\n",
    "plt.clf()\n",
    "ax3d = Axes3D(fig, rect=[0, 0, .95, 1], elev=28, azim=138)\n",
    "\n",
    "\n",
    "ax3d.scatter(pca_data[:,0],pca_data[:,1],pca_data[:,2], cmap=plt.cm.Spectral)\n",
    "\n",
    "\n",
    "#print(pca_df.index)\n",
    "# loop over annotate to add sample names to the graph \n",
    "#for sample in pca_df.index:\n",
    "#    plt.annotate(sample, (pca_df.PC1.loc[sample], pca_df.PC2.loc[sample]))\n",
    "\n",
    "\n",
    "#for i in range(len(m)): #plot each point + it's index as text above\n",
    "# ax.scatter(m[i,0],m[i,1],m[i,2],color='b') \n",
    "# ax.text(m[i,0],m[i,1],m[i,2],  '%s' % (str(i)), size=20, zorder=1,  \n",
    "# color='k') \n",
    "plt.title(\"My PCA Graph\")\n",
    "ax3d.set_xlabel('PC1 - {0}%'.format(per_var[0]))\n",
    "ax3d.set_ylabel('PC2 - {0}%'.format(per_var[1]))\n",
    "ax3d.set_zlabel('PC3 - {0}%'.format(per_var[2]))\n",
    "\n",
    "plt.show()\n"
   ]
  },
  {
   "cell_type": "code",
   "execution_count": 128,
   "metadata": {},
   "outputs": [
    {
     "name": "stdout",
     "output_type": "stream",
     "text": [
      "[-24.43576057 -29.64868175  68.40027431 123.73907813 -72.46809803\n",
      "  23.93791935 -59.48822367  16.33190333 -71.19873676  -3.62337463\n",
      "  -3.48253681  31.91594355 -10.22246876  68.33591215 -19.42660336\n",
      " -38.66654648] [ 41.34696876 -79.78645822  22.29394131  22.55990473  87.96171176\n",
      "  84.9996916  -42.13761445 -19.21316491  33.85408825  38.92723394\n",
      " -34.29443487 -46.37666744 -14.64127642 -26.58684112 -31.70318234\n",
      " -37.20390057] [ 83.46154647  67.79440696 -16.32209419 -28.50238415  13.92165272\n",
      "  -5.87750121 -32.58963267  49.29196812 -49.53826997  10.02299837\n",
      "  30.42069752  -5.82690438  -8.14611881   8.18797366 -64.44398297\n",
      " -51.85435546]\n"
     ]
    }
   ],
   "source": [
    "print(pca_data[0:,0],pca_data[0:,1],pca_data[0:,2])"
   ]
  },
  {
   "cell_type": "markdown",
   "metadata": {},
   "source": [
    "Axes3D.scatter(xs, ys, zs=0, zdir='z', s=20, c=None, depthshade=True, *args, **kwargs)\n",
    "Create a scatter plot.\n",
    "\n",
    "Argument\tDescription\n",
    "\n",
    "xs, ys\tPositions of data points.\n",
    "\n",
    "zs\tEither an array of the same length as xs and ys or a single value to place all points in the same plane. Default is 0.\n",
    "\n",
    "zdir\tWhich direction to use as z (‘x’, ‘y’ or ‘z’) when plotting a 2D set.\n",
    "\n",
    "s\tSize in points^2. It is a scalar or an array of the same length as x and y.\n",
    "\n",
    "c\tA color. c can be a single color format string, or a sequence of color specifications of length N, or a sequence of N numbers to be mapped to colors using the cmap and norm specified via kwargs (see below). Note that c should not be a single numeric RGB or RGBA sequence because that is indistinguishable from an array of values to be colormapped. \n",
    "c can be a 2-D array in which the rows are RGB or RGBA, however, including the case of a single row to specify the same color for all points.\n",
    "\n",
    "depthshade\tWhether or not to shade the scatter markers to give the appearance of depth. Default is True.\n",
    "\n",
    "\n",
    "Keyword arguments are passed on to scatter().\n",
    "\n"
   ]
  },
  {
   "cell_type": "code",
   "execution_count": 124,
   "metadata": {},
   "outputs": [
    {
     "name": "stdout",
     "output_type": "stream",
     "text": [
      "Index(['CR9', 'CR13', 'CR14', 'CR16', 'CY2', 'CY5', 'CY10', 'CY15', 'KR3',\n",
      "       'KR4', 'KR6', 'KR7', 'KY1', 'KY6', 'KY11', 'KY12'],\n",
      "      dtype='object')\n"
     ]
    },
    {
     "ename": "NameError",
     "evalue": "name 'm' is not defined",
     "output_type": "error",
     "traceback": [
      "\u001b[0;31m---------------------------------------------------------------------------\u001b[0m",
      "\u001b[0;31mNameError\u001b[0m                                 Traceback (most recent call last)",
      "\u001b[0;32m<ipython-input-124-d0edc21118db>\u001b[0m in \u001b[0;36m<module>\u001b[0;34m()\u001b[0m\n\u001b[1;32m     21\u001b[0m \u001b[0;34m\u001b[0m\u001b[0m\n\u001b[1;32m     22\u001b[0m \u001b[0;34m\u001b[0m\u001b[0m\n\u001b[0;32m---> 23\u001b[0;31m \u001b[0;32mfor\u001b[0m \u001b[0mi\u001b[0m \u001b[0;32min\u001b[0m \u001b[0mrange\u001b[0m\u001b[0;34m(\u001b[0m\u001b[0mlen\u001b[0m\u001b[0;34m(\u001b[0m\u001b[0mm\u001b[0m\u001b[0;34m)\u001b[0m\u001b[0;34m)\u001b[0m\u001b[0;34m:\u001b[0m \u001b[0;31m#plot each point + it's index as text above\u001b[0m\u001b[0;34m\u001b[0m\u001b[0m\n\u001b[0m\u001b[1;32m     24\u001b[0m  \u001b[0max3d\u001b[0m\u001b[0;34m.\u001b[0m\u001b[0mscatter\u001b[0m\u001b[0;34m(\u001b[0m\u001b[0mm\u001b[0m\u001b[0;34m[\u001b[0m\u001b[0mi\u001b[0m\u001b[0;34m,\u001b[0m\u001b[0;36m0\u001b[0m\u001b[0;34m]\u001b[0m\u001b[0;34m,\u001b[0m\u001b[0mm\u001b[0m\u001b[0;34m[\u001b[0m\u001b[0mi\u001b[0m\u001b[0;34m,\u001b[0m\u001b[0;36m1\u001b[0m\u001b[0;34m]\u001b[0m\u001b[0;34m,\u001b[0m\u001b[0mm\u001b[0m\u001b[0;34m[\u001b[0m\u001b[0mi\u001b[0m\u001b[0;34m,\u001b[0m\u001b[0;36m2\u001b[0m\u001b[0;34m]\u001b[0m\u001b[0;34m,\u001b[0m\u001b[0mcolor\u001b[0m\u001b[0;34m=\u001b[0m\u001b[0;34m'b'\u001b[0m\u001b[0;34m)\u001b[0m\u001b[0;34m\u001b[0m\u001b[0m\n\u001b[1;32m     25\u001b[0m  ax3d.text(m[i,0],m[i,1],m[i,2],  '%s' % (str(i)), size=20, zorder=1,  \n",
      "\u001b[0;31mNameError\u001b[0m: name 'm' is not defined"
     ]
    },
    {
     "data": {
      "image/png": "[encoded data removed]",
      "text/plain": [
       "<Figure size 360x360 with 1 Axes>"
      ]
     },
     "metadata": {
      "needs_background": "light"
     },
     "output_type": "display_data"
    }
   ],
   "source": [
    "%matplotlib inline\n",
    "import numpy as np\n",
    "import matplotlib.pyplot as plt\n",
    "from mpl_toolkits.mplot3d import Axes3D\n",
    "\n",
    "\n",
    "from sklearn import decomposition\n",
    "\n",
    "fig = plt.figure(1, figsize=(5, 5))\n",
    "plt.clf()\n",
    "ax3d = Axes3D(fig, rect=[0, 0, .95, 1], elev=28, azim=138)\n",
    "\n",
    "\n",
    "ax3d.scatter(pca_data[:,0],pca_data[:,1],pca_data[:,2], cmap=plt.cm.Spectral)\n",
    "\n",
    "\n",
    "print(pca_df.index)\n",
    "# loop over annotate to add sample names to the graph - not working?  need 3rd dimension?\n",
    "for sample in pca_df.index:\n",
    "   plt.annotate(sample, (pca_df.PC1.loc[sample], pca_df.PC2.loc[sample]))\n",
    "\n",
    "#copied this from the web as an example to label the points on a 3D plot - needs work!\n",
    "for i in range(len(m)): #plot each point + it's index as text above\n",
    " ax3d.scatter(m[i,0],m[i,1],m[i,2],color='b') \n",
    " ax3d.text(m[i,0],m[i,1],m[i,2],  '%s' % (str(i)), size=20, zorder=1,  \n",
    " color='k') \n",
    "plt.title(\"My PCA Graph\")\n",
    "ax3d.set_xlabel('PC1 - {0}%'.format(per_var[0]))\n",
    "ax3d.set_ylabel('PC2 - {0}%'.format(per_var[1]))\n",
    "ax3d.set_zlabel('PC3 - {0}%'.format(per_var[2]))\n",
    "\n",
    "plt.show()\n",
    "\n"
   ]
  }
 ],
 "metadata": {
  "kernelspec": {
   "display_name": "Python 3",
   "language": "python",
   "name": "python3"
  },
  "language_info": {
   "codemirror_mode": {
    "name": "ipython",
    "version": 3
   },
   "file_extension": ".py",
   "mimetype": "text/x-python",
   "name": "python",
   "nbconvert_exporter": "python",
   "pygments_lexer": "ipython3",
   "version": "3.7.0"
  }
 },
 "nbformat": 4,
 "nbformat_minor": 2
}
